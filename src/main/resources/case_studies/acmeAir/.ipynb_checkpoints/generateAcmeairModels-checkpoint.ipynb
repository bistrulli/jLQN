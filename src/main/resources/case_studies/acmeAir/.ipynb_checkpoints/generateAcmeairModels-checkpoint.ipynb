{
 "cells": [
  {
   "cell_type": "code",
   "execution_count": 78,
   "id": "02247426-7cf2-4cca-9bd9-1f217b5f1255",
   "metadata": {},
   "outputs": [],
   "source": [
    "import numpy as np\n",
    "import re"
   ]
  },
  {
   "cell_type": "code",
   "execution_count": 79,
   "id": "ea224fe8-3e40-4633-8e9a-7c47a4b4d400",
   "metadata": {},
   "outputs": [],
   "source": [
    "acmeairLqnTmp=open(\"acmeair.lqn\",\"r\")\n",
    "acmeairLqn=acmeairLqnTmp.read()"
   ]
  },
  {
   "cell_type": "code",
   "execution_count": 80,
   "id": "fcf57140-4746-4fae-b2ea-44b52328be55",
   "metadata": {},
   "outputs": [],
   "source": [
    "stimes=np.array([np.minimum(1.0/(np.random.rand(1,10)*50),3).flatten().tolist() for i in range(30)])"
   ]
  },
  {
   "cell_type": "code",
   "execution_count": 81,
   "id": "74d5abb8-815a-407a-8ca0-e9289624347e",
   "metadata": {},
   "outputs": [],
   "source": [
    "for i in range(stimes.shape[0]):\n",
    "    acmeairLqn_m=acmeairLqn\n",
    "    for j in range(stimes.shape[1]):\n",
    "        #print(stimes[i,j],f\"${j+1}\")\n",
    "        acmeairLqn_m=acmeairLqn_m.replace(f\"${j+1}\",str(round(stimes[i,j],5)))\n",
    "    acmeairLqn_m=acmeairLqn_m.replace(f\"$name\",f\"\\\"lqnmodel_{i}.lqn\\\"\")\n",
    "    lqnFile=open(f\"lqnmodel_{i}.lqn\",\"w+\")\n",
    "    lqnFile.write(acmeairLqn_m)\n",
    "    lqnFile.close()"
   ]
  },
  {
   "cell_type": "code",
   "execution_count": null,
   "id": "0625accb-e54d-44f4-8cff-22a983a681da",
   "metadata": {},
   "outputs": [],
   "source": []
  }
 ],
 "metadata": {
  "kernelspec": {
   "display_name": "Python 3 (ipykernel)",
   "language": "python",
   "name": "python3"
  },
  "language_info": {
   "codemirror_mode": {
    "name": "ipython",
    "version": 3
   },
   "file_extension": ".py",
   "mimetype": "text/x-python",
   "name": "python",
   "nbconvert_exporter": "python",
   "pygments_lexer": "ipython3",
   "version": "3.9.6"
  }
 },
 "nbformat": 4,
 "nbformat_minor": 5
}
